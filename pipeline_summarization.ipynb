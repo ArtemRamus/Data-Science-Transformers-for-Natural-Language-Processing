{
  "nbformat": 4,
  "nbformat_minor": 0,
  "metadata": {
    "colab": {
      "provenance": []
    },
    "kernelspec": {
      "name": "python3",
      "display_name": "Python 3"
    },
    "language_info": {
      "name": "python"
    }
  },
  "cells": [
    {
      "cell_type": "code",
      "source": [
        "# https://www.kaggle.com/shivamkushwaha/bbc-full-text-document-classification\n",
        "!wget -nc https://lazyprogrammer.me/course_files/nlp/bbc_text_cls.csv"
      ],
      "metadata": {
        "colab": {
          "base_uri": "https://localhost:8080/"
        },
        "id": "BZc53UXGXAQc",
        "outputId": "366f0711-c1e0-48c9-d730-161579800843"
      },
      "execution_count": 1,
      "outputs": [
        {
          "output_type": "stream",
          "name": "stdout",
          "text": [
            "File ‘bbc_text_cls.csv’ already there; not retrieving.\n",
            "\n"
          ]
        }
      ]
    },
    {
      "cell_type": "code",
      "execution_count": 2,
      "metadata": {
        "colab": {
          "base_uri": "https://localhost:8080/"
        },
        "id": "z3X0dbA9UXwQ",
        "outputId": "38a5f583-8694-4ec3-8030-787b7be78e68"
      },
      "outputs": [
        {
          "output_type": "stream",
          "name": "stdout",
          "text": [
            "Looking in indexes: https://pypi.org/simple, https://us-python.pkg.dev/colab-wheels/public/simple/\n",
            "Requirement already satisfied: transformers in /usr/local/lib/python3.8/dist-packages (4.25.1)\n",
            "Requirement already satisfied: requests in /usr/local/lib/python3.8/dist-packages (from transformers) (2.23.0)\n",
            "Requirement already satisfied: huggingface-hub<1.0,>=0.10.0 in /usr/local/lib/python3.8/dist-packages (from transformers) (0.11.1)\n",
            "Requirement already satisfied: packaging>=20.0 in /usr/local/lib/python3.8/dist-packages (from transformers) (21.3)\n",
            "Requirement already satisfied: tokenizers!=0.11.3,<0.14,>=0.11.1 in /usr/local/lib/python3.8/dist-packages (from transformers) (0.13.2)\n",
            "Requirement already satisfied: tqdm>=4.27 in /usr/local/lib/python3.8/dist-packages (from transformers) (4.64.1)\n",
            "Requirement already satisfied: pyyaml>=5.1 in /usr/local/lib/python3.8/dist-packages (from transformers) (6.0)\n",
            "Requirement already satisfied: numpy>=1.17 in /usr/local/lib/python3.8/dist-packages (from transformers) (1.21.6)\n",
            "Requirement already satisfied: filelock in /usr/local/lib/python3.8/dist-packages (from transformers) (3.8.0)\n",
            "Requirement already satisfied: regex!=2019.12.17 in /usr/local/lib/python3.8/dist-packages (from transformers) (2022.6.2)\n",
            "Requirement already satisfied: typing-extensions>=3.7.4.3 in /usr/local/lib/python3.8/dist-packages (from huggingface-hub<1.0,>=0.10.0->transformers) (4.4.0)\n",
            "Requirement already satisfied: pyparsing!=3.0.5,>=2.0.2 in /usr/local/lib/python3.8/dist-packages (from packaging>=20.0->transformers) (3.0.9)\n",
            "Requirement already satisfied: certifi>=2017.4.17 in /usr/local/lib/python3.8/dist-packages (from requests->transformers) (2022.9.24)\n",
            "Requirement already satisfied: idna<3,>=2.5 in /usr/local/lib/python3.8/dist-packages (from requests->transformers) (2.10)\n",
            "Requirement already satisfied: chardet<4,>=3.0.2 in /usr/local/lib/python3.8/dist-packages (from requests->transformers) (3.0.4)\n",
            "Requirement already satisfied: urllib3!=1.25.0,!=1.25.1,<1.26,>=1.21.1 in /usr/local/lib/python3.8/dist-packages (from requests->transformers) (1.24.3)\n"
          ]
        }
      ],
      "source": [
        "!pip install transformers"
      ]
    },
    {
      "cell_type": "code",
      "source": [
        "import pandas as pd\n",
        "import numpy as np\n",
        "import textwrap\n",
        "from transformers import pipeline"
      ],
      "metadata": {
        "id": "GQhzTfu4VZ48"
      },
      "execution_count": 3,
      "outputs": []
    },
    {
      "cell_type": "code",
      "source": [
        "df = pd.read_csv(\"bbc_text_cls.csv\")"
      ],
      "metadata": {
        "id": "ngSSjjoOXeqq"
      },
      "execution_count": 4,
      "outputs": []
    },
    {
      "cell_type": "code",
      "source": [
        "df.head()"
      ],
      "metadata": {
        "colab": {
          "base_uri": "https://localhost:8080/",
          "height": 206
        },
        "id": "gWnzljTeXfr1",
        "outputId": "a3c3fded-0fae-4334-ee58-54eec9c06e45"
      },
      "execution_count": 5,
      "outputs": [
        {
          "output_type": "execute_result",
          "data": {
            "text/plain": [
              "                                                text    labels\n",
              "0  Ad sales boost Time Warner profit\\n\\nQuarterly...  business\n",
              "1  Dollar gains on Greenspan speech\\n\\nThe dollar...  business\n",
              "2  Yukos unit buyer faces loan claim\\n\\nThe owner...  business\n",
              "3  High fuel prices hit BA's profits\\n\\nBritish A...  business\n",
              "4  Pernod takeover talk lifts Domecq\\n\\nShares in...  business"
            ],
            "text/html": [
              "\n",
              "  <div id=\"df-03a473de-ec61-45d0-91f3-1ef5ceb6a883\">\n",
              "    <div class=\"colab-df-container\">\n",
              "      <div>\n",
              "<style scoped>\n",
              "    .dataframe tbody tr th:only-of-type {\n",
              "        vertical-align: middle;\n",
              "    }\n",
              "\n",
              "    .dataframe tbody tr th {\n",
              "        vertical-align: top;\n",
              "    }\n",
              "\n",
              "    .dataframe thead th {\n",
              "        text-align: right;\n",
              "    }\n",
              "</style>\n",
              "<table border=\"1\" class=\"dataframe\">\n",
              "  <thead>\n",
              "    <tr style=\"text-align: right;\">\n",
              "      <th></th>\n",
              "      <th>text</th>\n",
              "      <th>labels</th>\n",
              "    </tr>\n",
              "  </thead>\n",
              "  <tbody>\n",
              "    <tr>\n",
              "      <th>0</th>\n",
              "      <td>Ad sales boost Time Warner profit\\n\\nQuarterly...</td>\n",
              "      <td>business</td>\n",
              "    </tr>\n",
              "    <tr>\n",
              "      <th>1</th>\n",
              "      <td>Dollar gains on Greenspan speech\\n\\nThe dollar...</td>\n",
              "      <td>business</td>\n",
              "    </tr>\n",
              "    <tr>\n",
              "      <th>2</th>\n",
              "      <td>Yukos unit buyer faces loan claim\\n\\nThe owner...</td>\n",
              "      <td>business</td>\n",
              "    </tr>\n",
              "    <tr>\n",
              "      <th>3</th>\n",
              "      <td>High fuel prices hit BA's profits\\n\\nBritish A...</td>\n",
              "      <td>business</td>\n",
              "    </tr>\n",
              "    <tr>\n",
              "      <th>4</th>\n",
              "      <td>Pernod takeover talk lifts Domecq\\n\\nShares in...</td>\n",
              "      <td>business</td>\n",
              "    </tr>\n",
              "  </tbody>\n",
              "</table>\n",
              "</div>\n",
              "      <button class=\"colab-df-convert\" onclick=\"convertToInteractive('df-03a473de-ec61-45d0-91f3-1ef5ceb6a883')\"\n",
              "              title=\"Convert this dataframe to an interactive table.\"\n",
              "              style=\"display:none;\">\n",
              "        \n",
              "  <svg xmlns=\"http://www.w3.org/2000/svg\" height=\"24px\"viewBox=\"0 0 24 24\"\n",
              "       width=\"24px\">\n",
              "    <path d=\"M0 0h24v24H0V0z\" fill=\"none\"/>\n",
              "    <path d=\"M18.56 5.44l.94 2.06.94-2.06 2.06-.94-2.06-.94-.94-2.06-.94 2.06-2.06.94zm-11 1L8.5 8.5l.94-2.06 2.06-.94-2.06-.94L8.5 2.5l-.94 2.06-2.06.94zm10 10l.94 2.06.94-2.06 2.06-.94-2.06-.94-.94-2.06-.94 2.06-2.06.94z\"/><path d=\"M17.41 7.96l-1.37-1.37c-.4-.4-.92-.59-1.43-.59-.52 0-1.04.2-1.43.59L10.3 9.45l-7.72 7.72c-.78.78-.78 2.05 0 2.83L4 21.41c.39.39.9.59 1.41.59.51 0 1.02-.2 1.41-.59l7.78-7.78 2.81-2.81c.8-.78.8-2.07 0-2.86zM5.41 20L4 18.59l7.72-7.72 1.47 1.35L5.41 20z\"/>\n",
              "  </svg>\n",
              "      </button>\n",
              "      \n",
              "  <style>\n",
              "    .colab-df-container {\n",
              "      display:flex;\n",
              "      flex-wrap:wrap;\n",
              "      gap: 12px;\n",
              "    }\n",
              "\n",
              "    .colab-df-convert {\n",
              "      background-color: #E8F0FE;\n",
              "      border: none;\n",
              "      border-radius: 50%;\n",
              "      cursor: pointer;\n",
              "      display: none;\n",
              "      fill: #1967D2;\n",
              "      height: 32px;\n",
              "      padding: 0 0 0 0;\n",
              "      width: 32px;\n",
              "    }\n",
              "\n",
              "    .colab-df-convert:hover {\n",
              "      background-color: #E2EBFA;\n",
              "      box-shadow: 0px 1px 2px rgba(60, 64, 67, 0.3), 0px 1px 3px 1px rgba(60, 64, 67, 0.15);\n",
              "      fill: #174EA6;\n",
              "    }\n",
              "\n",
              "    [theme=dark] .colab-df-convert {\n",
              "      background-color: #3B4455;\n",
              "      fill: #D2E3FC;\n",
              "    }\n",
              "\n",
              "    [theme=dark] .colab-df-convert:hover {\n",
              "      background-color: #434B5C;\n",
              "      box-shadow: 0px 1px 3px 1px rgba(0, 0, 0, 0.15);\n",
              "      filter: drop-shadow(0px 1px 2px rgba(0, 0, 0, 0.3));\n",
              "      fill: #FFFFFF;\n",
              "    }\n",
              "  </style>\n",
              "\n",
              "      <script>\n",
              "        const buttonEl =\n",
              "          document.querySelector('#df-03a473de-ec61-45d0-91f3-1ef5ceb6a883 button.colab-df-convert');\n",
              "        buttonEl.style.display =\n",
              "          google.colab.kernel.accessAllowed ? 'block' : 'none';\n",
              "\n",
              "        async function convertToInteractive(key) {\n",
              "          const element = document.querySelector('#df-03a473de-ec61-45d0-91f3-1ef5ceb6a883');\n",
              "          const dataTable =\n",
              "            await google.colab.kernel.invokeFunction('convertToInteractive',\n",
              "                                                     [key], {});\n",
              "          if (!dataTable) return;\n",
              "\n",
              "          const docLinkHtml = 'Like what you see? Visit the ' +\n",
              "            '<a target=\"_blank\" href=https://colab.research.google.com/notebooks/data_table.ipynb>data table notebook</a>'\n",
              "            + ' to learn more about interactive tables.';\n",
              "          element.innerHTML = '';\n",
              "          dataTable['output_type'] = 'display_data';\n",
              "          await google.colab.output.renderOutput(dataTable, element);\n",
              "          const docLink = document.createElement('div');\n",
              "          docLink.innerHTML = docLinkHtml;\n",
              "          element.appendChild(docLink);\n",
              "        }\n",
              "      </script>\n",
              "    </div>\n",
              "  </div>\n",
              "  "
            ]
          },
          "metadata": {},
          "execution_count": 5
        }
      ]
    },
    {
      "cell_type": "code",
      "source": [
        "doc = df[df.labels=='business']['text'].sample(random_state=42)"
      ],
      "metadata": {
        "id": "IybOUj74Xs8q"
      },
      "execution_count": 6,
      "outputs": []
    },
    {
      "cell_type": "code",
      "source": [
        "def wrap(x):\n",
        "    return textwrap.fill(x, replace_whitespace=False, fix_sentence_endings=True)"
      ],
      "metadata": {
        "id": "wfu2HVcEYQ8V"
      },
      "execution_count": 7,
      "outputs": []
    },
    {
      "cell_type": "code",
      "source": [
        "print(wrap(doc.iloc[0]))"
      ],
      "metadata": {
        "colab": {
          "base_uri": "https://localhost:8080/"
        },
        "id": "xKk2dKSuXtSS",
        "outputId": "eb0ec3f1-fe99-4aca-cbfb-1f6cb6958898"
      },
      "execution_count": 8,
      "outputs": [
        {
          "output_type": "stream",
          "name": "stdout",
          "text": [
            "Christmas sales worst since 1981\n",
            "\n",
            "UK retail sales fell in December,\n",
            "failing to meet expectations and making it by some counts the worst\n",
            "Christmas since 1981.\n",
            "\n",
            "Retail sales dropped by 1% on the month in\n",
            "December, after a 0.6% rise in November, the Office for National\n",
            "Statistics (ONS) said.  The ONS revised the annual 2004 rate of growth\n",
            "down from the 5.9% estimated in November to 3.2%. A number of\n",
            "retailers have already reported poor figures for December.  Clothing\n",
            "retailers and non-specialist stores were the worst hit with only\n",
            "internet retailers showing any significant growth, according to the\n",
            "ONS.\n",
            "\n",
            "The last time retailers endured a tougher Christmas was 23 years\n",
            "previously, when sales plunged 1.7%.\n",
            "\n",
            "The ONS echoed an earlier\n",
            "caution from Bank of England governor Mervyn King not to read too much\n",
            "into the poor December figures.  Some analysts put a positive gloss on\n",
            "the figures, pointing out that the non-seasonally-adjusted figures\n",
            "showed a performance comparable with 2003. The November-December jump\n",
            "last year was roughly comparable with recent averages, although some\n",
            "way below the serious booms seen in the 1990s.  And figures for retail\n",
            "volume outperformed measures of actual spending, an indication that\n",
            "consumers are looking for bargains, and retailers are cutting their\n",
            "prices.\n",
            "\n",
            "However, reports from some High Street retailers highlight\n",
            "the weakness of the sector.  Morrisons, Woolworths, House of Fraser,\n",
            "Marks & Spencer and Big Food all said that the festive period was\n",
            "disappointing.\n",
            "\n",
            "And a British Retail Consortium survey found that\n",
            "Christmas 2004 was the worst for 10 years.  Yet, other retailers -\n",
            "including HMV, Monsoon, Jessops, Body Shop and Tesco - reported that\n",
            "festive sales were well up on last year.  Investec chief economist\n",
            "Philip Shaw said he did not expect the poor retail figures to have any\n",
            "immediate effect on interest rates.  \"The retail sales figures are\n",
            "very weak, but as Bank of England governor Mervyn King indicated last\n",
            "night, you don't really get an accurate impression of Christmas\n",
            "trading until about Easter,\" said Mr Shaw.  \"Our view is the Bank of\n",
            "England will keep its powder dry and wait to see the big picture.\"\n"
          ]
        }
      ]
    },
    {
      "cell_type": "code",
      "source": [
        "summarizer = pipeline(\"summarization\")"
      ],
      "metadata": {
        "id": "sgrAe4xQWVAa",
        "colab": {
          "base_uri": "https://localhost:8080/"
        },
        "outputId": "3f6e206d-f1f1-44f1-efe4-c0d178f62c75"
      },
      "execution_count": 9,
      "outputs": [
        {
          "output_type": "stream",
          "name": "stderr",
          "text": [
            "No model was supplied, defaulted to sshleifer/distilbart-cnn-12-6 and revision a4f8f3e (https://huggingface.co/sshleifer/distilbart-cnn-12-6).\n",
            "Using a pipeline without specifying a model name and revision in production is not recommended.\n"
          ]
        }
      ]
    },
    {
      "cell_type": "code",
      "source": [
        "summarizer(doc.iloc[0].split('\\n', 1)[1])"
      ],
      "metadata": {
        "colab": {
          "base_uri": "https://localhost:8080/"
        },
        "id": "AenhJk8sYgz7",
        "outputId": "b8ffdc23-2505-4f22-b95c-55371101aef7"
      },
      "execution_count": 10,
      "outputs": [
        {
          "output_type": "execute_result",
          "data": {
            "text/plain": [
              "[{'summary_text': ' Retail sales dropped by 1% on the month in December, after a 0.6% rise in November . Clothing retailers and non-specialist stores were the worst hit with only internet retailers showing any significant growth . The last time retailers endured a tougher Christmas was 23 years ago, when sales plunged 1.7% .'}]"
            ]
          },
          "metadata": {},
          "execution_count": 10
        }
      ]
    },
    {
      "cell_type": "code",
      "source": [
        "def print_summary(doc):\n",
        "    result = summarizer(doc.iloc[0].split('\\n', 1)[1])\n",
        "    print(wrap(result[0]['summary_text']))"
      ],
      "metadata": {
        "id": "gQhZCwZxZNcq"
      },
      "execution_count": 11,
      "outputs": []
    },
    {
      "cell_type": "code",
      "source": [
        "print_summary(doc)"
      ],
      "metadata": {
        "colab": {
          "base_uri": "https://localhost:8080/"
        },
        "id": "H1tkOmIMZkb9",
        "outputId": "3769141a-2a89-41d8-95b6-de2155227ce4"
      },
      "execution_count": 12,
      "outputs": [
        {
          "output_type": "stream",
          "name": "stdout",
          "text": [
            " Retail sales dropped by 1% on the month in December, after a 0.6%\n",
            "rise in November . Clothing retailers and non-specialist stores were\n",
            "the worst hit with only internet retailers showing any significant\n",
            "growth . The last time retailers endured a tougher Christmas was 23\n",
            "years ago, when sales plunged 1.7% .\n"
          ]
        }
      ]
    },
    {
      "cell_type": "code",
      "source": [
        "doc = df[df.labels=='entertainment']['text'].sample(random_state=42)\n",
        "print(wrap(doc.iloc[0]))"
      ],
      "metadata": {
        "colab": {
          "base_uri": "https://localhost:8080/"
        },
        "id": "2w6O46B0Zm0I",
        "outputId": "c1833fba-1546-4cc1-8b76-a2386d013020"
      },
      "execution_count": 13,
      "outputs": [
        {
          "output_type": "stream",
          "name": "stdout",
          "text": [
            "Career honour for actor DiCaprio\n",
            "\n",
            "Actor Leonardo DiCaprio's\n",
            "\"exceptional career\" has been honoured at the Santa Barbara\n",
            "International Film Festival.\n",
            "\n",
            "The star was presented with the award by\n",
            "Martin Scorsese, who directed him in Oscar-nominated movie The\n",
            "Aviator.  \"It's a lifetime achievement award, which is completely and\n",
            "utterly surreal, given I'm only 30 years old,\" DiCaprio said.  \"But\n",
            "what has it been?  Almost 17 years now.  I've done quite a few films.\"\n",
            "A retrospective of his movies was shown.\n",
            "\n",
            "\"What's really exciting, for\n",
            "me, is that this is what I really love doing,\" he added.  \"It's what I\n",
            "want to do for the rest of my life.\"  DiCaprio began his movie career\n",
            "in horror film Critters 3, before moving onto roles in The Basketball\n",
            "Diaries, Romeo and Juliet, Titanic and Gangs of New York.  The\n",
            "achievement award was created to commemorate the California festival's\n",
            "20th anniversary and coincided with DiCaprio's portrayal of\n",
            "millionaire Howard Hughes in The Aviator.\n",
            "\n",
            "Veteran actress Jane\n",
            "Russell, who starred in Hughes' 1943 film The Outlaw, said was\n",
            "impressed by DiCaprio's quest for authenticity when he previously\n",
            "discussed the role with her.  \"I was very happy that (DiCaprio) came\n",
            "and cared to come up and find out what (Hughes) was really like,\" she\n",
            "said.  The Aviator has taken pole position in this year's Oscars race\n",
            "with 11 nominations, including nominations for best film, best actor\n",
            "for DiCaprio and best director for Scorsese.\n"
          ]
        }
      ]
    },
    {
      "cell_type": "code",
      "source": [
        "print_summary(doc)"
      ],
      "metadata": {
        "colab": {
          "base_uri": "https://localhost:8080/"
        },
        "id": "aA99tl8ZaCPI",
        "outputId": "4beef5ec-51d0-40af-d3c8-c63404d279f1"
      },
      "execution_count": 14,
      "outputs": [
        {
          "output_type": "stream",
          "name": "stdout",
          "text": [
            " Leonardo DiCaprio honoured with lifetime achievement award at Santa\n",
            "Barbara International Film Festival . The award was created to\n",
            "commemorate the California festival's 20th anniversary . The Aviator\n",
            "has taken pole position in this year's Oscar race with 11 nominations\n",
            "for best actor . Actress Jane Russell said she was impressed by his\n",
            "quest for authenticity in the role of Howard Hughes .\n"
          ]
        }
      ]
    },
    {
      "cell_type": "markdown",
      "source": [
        "END"
      ],
      "metadata": {
        "id": "FLYhf-qBa-Zt"
      }
    }
  ]
}