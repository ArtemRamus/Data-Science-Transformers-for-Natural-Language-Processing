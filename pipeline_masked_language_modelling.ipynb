{
  "nbformat": 4,
  "nbformat_minor": 0,
  "metadata": {
    "colab": {
      "provenance": []
    },
    "kernelspec": {
      "name": "python3",
      "display_name": "Python 3"
    },
    "language_info": {
      "name": "python"
    }
  },
  "cells": [
    {
      "cell_type": "code",
      "source": [
        "# https://www.kaggle.com/shivamkushwaha/bbc-full-text-document-classification\n",
        "!wget -nc https://lazyprogrammer.me/course_files/nlp/bbc_text_cls.csv"
      ],
      "metadata": {
        "colab": {
          "base_uri": "https://localhost:8080/"
        },
        "id": "ziSjrAkZQtX8",
        "outputId": "7c96ccbe-7a3e-4580-d709-6be1332fc8ff"
      },
      "execution_count": 1,
      "outputs": [
        {
          "output_type": "stream",
          "name": "stdout",
          "text": [
            "File ‘bbc_text_cls.csv’ already there; not retrieving.\n",
            "\n"
          ]
        }
      ]
    },
    {
      "cell_type": "code",
      "execution_count": 2,
      "metadata": {
        "colab": {
          "base_uri": "https://localhost:8080/"
        },
        "id": "rIz9Lc_bMDz4",
        "outputId": "dbb64e9a-d5fa-478b-c1f6-9160df753087"
      },
      "outputs": [
        {
          "output_type": "stream",
          "name": "stdout",
          "text": [
            "Looking in indexes: https://pypi.org/simple, https://us-python.pkg.dev/colab-wheels/public/simple/\n",
            "Requirement already satisfied: transformers in /usr/local/lib/python3.8/dist-packages (4.25.1)\n",
            "Requirement already satisfied: huggingface-hub<1.0,>=0.10.0 in /usr/local/lib/python3.8/dist-packages (from transformers) (0.11.1)\n",
            "Requirement already satisfied: tokenizers!=0.11.3,<0.14,>=0.11.1 in /usr/local/lib/python3.8/dist-packages (from transformers) (0.13.2)\n",
            "Requirement already satisfied: numpy>=1.17 in /usr/local/lib/python3.8/dist-packages (from transformers) (1.21.6)\n",
            "Requirement already satisfied: packaging>=20.0 in /usr/local/lib/python3.8/dist-packages (from transformers) (21.3)\n",
            "Requirement already satisfied: pyyaml>=5.1 in /usr/local/lib/python3.8/dist-packages (from transformers) (6.0)\n",
            "Requirement already satisfied: requests in /usr/local/lib/python3.8/dist-packages (from transformers) (2.23.0)\n",
            "Requirement already satisfied: tqdm>=4.27 in /usr/local/lib/python3.8/dist-packages (from transformers) (4.64.1)\n",
            "Requirement already satisfied: filelock in /usr/local/lib/python3.8/dist-packages (from transformers) (3.8.0)\n",
            "Requirement already satisfied: regex!=2019.12.17 in /usr/local/lib/python3.8/dist-packages (from transformers) (2022.6.2)\n",
            "Requirement already satisfied: typing-extensions>=3.7.4.3 in /usr/local/lib/python3.8/dist-packages (from huggingface-hub<1.0,>=0.10.0->transformers) (4.4.0)\n",
            "Requirement already satisfied: pyparsing!=3.0.5,>=2.0.2 in /usr/local/lib/python3.8/dist-packages (from packaging>=20.0->transformers) (3.0.9)\n",
            "Requirement already satisfied: idna<3,>=2.5 in /usr/local/lib/python3.8/dist-packages (from requests->transformers) (2.10)\n",
            "Requirement already satisfied: certifi>=2017.4.17 in /usr/local/lib/python3.8/dist-packages (from requests->transformers) (2022.9.24)\n",
            "Requirement already satisfied: chardet<4,>=3.0.2 in /usr/local/lib/python3.8/dist-packages (from requests->transformers) (3.0.4)\n",
            "Requirement already satisfied: urllib3!=1.25.0,!=1.25.1,<1.26,>=1.21.1 in /usr/local/lib/python3.8/dist-packages (from requests->transformers) (1.24.3)\n"
          ]
        }
      ],
      "source": [
        "!pip install transformers"
      ]
    },
    {
      "cell_type": "code",
      "source": [
        "import numpy as np\n",
        "import pandas as pd\n",
        "import textwrap\n",
        "from pprint import pprint\n",
        "\n",
        "from transformers import pipeline"
      ],
      "metadata": {
        "id": "k_UONU8EPWyp"
      },
      "execution_count": 3,
      "outputs": []
    },
    {
      "cell_type": "code",
      "source": [
        "df = pd.read_csv(\"bbc_text_cls.csv\")"
      ],
      "metadata": {
        "id": "QObOLdiLRSwo"
      },
      "execution_count": 4,
      "outputs": []
    },
    {
      "cell_type": "code",
      "source": [
        "df.head()"
      ],
      "metadata": {
        "colab": {
          "base_uri": "https://localhost:8080/",
          "height": 206
        },
        "id": "hb9cb9asRboU",
        "outputId": "39e3e0c4-5b67-4f64-c9bd-88089b153a3b"
      },
      "execution_count": 5,
      "outputs": [
        {
          "output_type": "execute_result",
          "data": {
            "text/plain": [
              "                                                text    labels\n",
              "0  Ad sales boost Time Warner profit\\n\\nQuarterly...  business\n",
              "1  Dollar gains on Greenspan speech\\n\\nThe dollar...  business\n",
              "2  Yukos unit buyer faces loan claim\\n\\nThe owner...  business\n",
              "3  High fuel prices hit BA's profits\\n\\nBritish A...  business\n",
              "4  Pernod takeover talk lifts Domecq\\n\\nShares in...  business"
            ],
            "text/html": [
              "\n",
              "  <div id=\"df-fe9ef34e-4ebe-4623-9c67-1289f8f88940\">\n",
              "    <div class=\"colab-df-container\">\n",
              "      <div>\n",
              "<style scoped>\n",
              "    .dataframe tbody tr th:only-of-type {\n",
              "        vertical-align: middle;\n",
              "    }\n",
              "\n",
              "    .dataframe tbody tr th {\n",
              "        vertical-align: top;\n",
              "    }\n",
              "\n",
              "    .dataframe thead th {\n",
              "        text-align: right;\n",
              "    }\n",
              "</style>\n",
              "<table border=\"1\" class=\"dataframe\">\n",
              "  <thead>\n",
              "    <tr style=\"text-align: right;\">\n",
              "      <th></th>\n",
              "      <th>text</th>\n",
              "      <th>labels</th>\n",
              "    </tr>\n",
              "  </thead>\n",
              "  <tbody>\n",
              "    <tr>\n",
              "      <th>0</th>\n",
              "      <td>Ad sales boost Time Warner profit\\n\\nQuarterly...</td>\n",
              "      <td>business</td>\n",
              "    </tr>\n",
              "    <tr>\n",
              "      <th>1</th>\n",
              "      <td>Dollar gains on Greenspan speech\\n\\nThe dollar...</td>\n",
              "      <td>business</td>\n",
              "    </tr>\n",
              "    <tr>\n",
              "      <th>2</th>\n",
              "      <td>Yukos unit buyer faces loan claim\\n\\nThe owner...</td>\n",
              "      <td>business</td>\n",
              "    </tr>\n",
              "    <tr>\n",
              "      <th>3</th>\n",
              "      <td>High fuel prices hit BA's profits\\n\\nBritish A...</td>\n",
              "      <td>business</td>\n",
              "    </tr>\n",
              "    <tr>\n",
              "      <th>4</th>\n",
              "      <td>Pernod takeover talk lifts Domecq\\n\\nShares in...</td>\n",
              "      <td>business</td>\n",
              "    </tr>\n",
              "  </tbody>\n",
              "</table>\n",
              "</div>\n",
              "      <button class=\"colab-df-convert\" onclick=\"convertToInteractive('df-fe9ef34e-4ebe-4623-9c67-1289f8f88940')\"\n",
              "              title=\"Convert this dataframe to an interactive table.\"\n",
              "              style=\"display:none;\">\n",
              "        \n",
              "  <svg xmlns=\"http://www.w3.org/2000/svg\" height=\"24px\"viewBox=\"0 0 24 24\"\n",
              "       width=\"24px\">\n",
              "    <path d=\"M0 0h24v24H0V0z\" fill=\"none\"/>\n",
              "    <path d=\"M18.56 5.44l.94 2.06.94-2.06 2.06-.94-2.06-.94-.94-2.06-.94 2.06-2.06.94zm-11 1L8.5 8.5l.94-2.06 2.06-.94-2.06-.94L8.5 2.5l-.94 2.06-2.06.94zm10 10l.94 2.06.94-2.06 2.06-.94-2.06-.94-.94-2.06-.94 2.06-2.06.94z\"/><path d=\"M17.41 7.96l-1.37-1.37c-.4-.4-.92-.59-1.43-.59-.52 0-1.04.2-1.43.59L10.3 9.45l-7.72 7.72c-.78.78-.78 2.05 0 2.83L4 21.41c.39.39.9.59 1.41.59.51 0 1.02-.2 1.41-.59l7.78-7.78 2.81-2.81c.8-.78.8-2.07 0-2.86zM5.41 20L4 18.59l7.72-7.72 1.47 1.35L5.41 20z\"/>\n",
              "  </svg>\n",
              "      </button>\n",
              "      \n",
              "  <style>\n",
              "    .colab-df-container {\n",
              "      display:flex;\n",
              "      flex-wrap:wrap;\n",
              "      gap: 12px;\n",
              "    }\n",
              "\n",
              "    .colab-df-convert {\n",
              "      background-color: #E8F0FE;\n",
              "      border: none;\n",
              "      border-radius: 50%;\n",
              "      cursor: pointer;\n",
              "      display: none;\n",
              "      fill: #1967D2;\n",
              "      height: 32px;\n",
              "      padding: 0 0 0 0;\n",
              "      width: 32px;\n",
              "    }\n",
              "\n",
              "    .colab-df-convert:hover {\n",
              "      background-color: #E2EBFA;\n",
              "      box-shadow: 0px 1px 2px rgba(60, 64, 67, 0.3), 0px 1px 3px 1px rgba(60, 64, 67, 0.15);\n",
              "      fill: #174EA6;\n",
              "    }\n",
              "\n",
              "    [theme=dark] .colab-df-convert {\n",
              "      background-color: #3B4455;\n",
              "      fill: #D2E3FC;\n",
              "    }\n",
              "\n",
              "    [theme=dark] .colab-df-convert:hover {\n",
              "      background-color: #434B5C;\n",
              "      box-shadow: 0px 1px 3px 1px rgba(0, 0, 0, 0.15);\n",
              "      filter: drop-shadow(0px 1px 2px rgba(0, 0, 0, 0.3));\n",
              "      fill: #FFFFFF;\n",
              "    }\n",
              "  </style>\n",
              "\n",
              "      <script>\n",
              "        const buttonEl =\n",
              "          document.querySelector('#df-fe9ef34e-4ebe-4623-9c67-1289f8f88940 button.colab-df-convert');\n",
              "        buttonEl.style.display =\n",
              "          google.colab.kernel.accessAllowed ? 'block' : 'none';\n",
              "\n",
              "        async function convertToInteractive(key) {\n",
              "          const element = document.querySelector('#df-fe9ef34e-4ebe-4623-9c67-1289f8f88940');\n",
              "          const dataTable =\n",
              "            await google.colab.kernel.invokeFunction('convertToInteractive',\n",
              "                                                     [key], {});\n",
              "          if (!dataTable) return;\n",
              "\n",
              "          const docLinkHtml = 'Like what you see? Visit the ' +\n",
              "            '<a target=\"_blank\" href=https://colab.research.google.com/notebooks/data_table.ipynb>data table notebook</a>'\n",
              "            + ' to learn more about interactive tables.';\n",
              "          element.innerHTML = '';\n",
              "          dataTable['output_type'] = 'display_data';\n",
              "          await google.colab.output.renderOutput(dataTable, element);\n",
              "          const docLink = document.createElement('div');\n",
              "          docLink.innerHTML = docLinkHtml;\n",
              "          element.appendChild(docLink);\n",
              "        }\n",
              "      </script>\n",
              "    </div>\n",
              "  </div>\n",
              "  "
            ]
          },
          "metadata": {},
          "execution_count": 5
        }
      ]
    },
    {
      "cell_type": "code",
      "source": [
        "labels = set(df.labels)\n",
        "labels"
      ],
      "metadata": {
        "colab": {
          "base_uri": "https://localhost:8080/"
        },
        "id": "gagvtQRrRc8P",
        "outputId": "508e4987-81ed-4c20-f932-545663336806"
      },
      "execution_count": 6,
      "outputs": [
        {
          "output_type": "execute_result",
          "data": {
            "text/plain": [
              "{'business', 'entertainment', 'politics', 'sport', 'tech'}"
            ]
          },
          "metadata": {},
          "execution_count": 6
        }
      ]
    },
    {
      "cell_type": "code",
      "source": [
        "# Pick a label\n",
        "label = 'business'"
      ],
      "metadata": {
        "id": "7MmpNKqrRk14"
      },
      "execution_count": 7,
      "outputs": []
    },
    {
      "cell_type": "code",
      "source": [
        "texts = df[df[\"labels\"]==label].text\n",
        "texts.head()"
      ],
      "metadata": {
        "colab": {
          "base_uri": "https://localhost:8080/"
        },
        "id": "8RHl4tUnRrTK",
        "outputId": "bbfab5c2-2736-442f-fcd6-896d8a1a7e59"
      },
      "execution_count": 8,
      "outputs": [
        {
          "output_type": "execute_result",
          "data": {
            "text/plain": [
              "0    Ad sales boost Time Warner profit\\n\\nQuarterly...\n",
              "1    Dollar gains on Greenspan speech\\n\\nThe dollar...\n",
              "2    Yukos unit buyer faces loan claim\\n\\nThe owner...\n",
              "3    High fuel prices hit BA's profits\\n\\nBritish A...\n",
              "4    Pernod takeover talk lifts Domecq\\n\\nShares in...\n",
              "Name: text, dtype: object"
            ]
          },
          "metadata": {},
          "execution_count": 8
        }
      ]
    },
    {
      "cell_type": "code",
      "source": [
        "np.random.seed(1234)"
      ],
      "metadata": {
        "id": "O0AKzNZrR8Mu"
      },
      "execution_count": 9,
      "outputs": []
    },
    {
      "cell_type": "code",
      "source": [
        "i = np.random.choice(texts.shape[0])\n",
        "doc = texts.loc[0]"
      ],
      "metadata": {
        "id": "G9WBLV-GR_al"
      },
      "execution_count": 10,
      "outputs": []
    },
    {
      "cell_type": "code",
      "source": [
        "print(textwrap.fill(doc, replace_whitespace=False, fix_sentence_endings=True))"
      ],
      "metadata": {
        "colab": {
          "base_uri": "https://localhost:8080/"
        },
        "id": "LNQc6Y0XR_c_",
        "outputId": "34fbe6af-15a7-45f2-8555-214685554d26"
      },
      "execution_count": 11,
      "outputs": [
        {
          "output_type": "stream",
          "name": "stdout",
          "text": [
            "Ad sales boost Time Warner profit\n",
            "\n",
            "Quarterly profits at US media giant\n",
            "TimeWarner jumped 76% to $1.13bn (£600m) for the three months to\n",
            "December, from $639m year-earlier.\n",
            "\n",
            "The firm, which is now one of the\n",
            "biggest investors in Google, benefited from sales of high-speed\n",
            "internet connections and higher advert sales.  TimeWarner said fourth\n",
            "quarter sales rose 2% to $11.1bn from $10.9bn.  Its profits were\n",
            "buoyed by one-off gains which offset a profit dip at Warner Bros, and\n",
            "less users for AOL.\n",
            "\n",
            "Time Warner said on Friday that it now owns 8% of\n",
            "search-engine Google.  But its own internet business, AOL, had has\n",
            "mixed fortunes.  It lost 464,000 subscribers in the fourth quarter\n",
            "profits were lower than in the preceding three quarters.  However, the\n",
            "company said AOL's underlying profit before exceptional items rose 8%\n",
            "on the back of stronger internet advertising revenues.  It hopes to\n",
            "increase subscribers by offering the online service free to TimeWarner\n",
            "internet customers and will try to sign up AOL's existing customers\n",
            "for high-speed broadband.  TimeWarner also has to restate 2000 and\n",
            "2003 results following a probe by the US Securities Exchange\n",
            "Commission (SEC), which is close to concluding.\n",
            "\n",
            "Time Warner's fourth\n",
            "quarter profits were slightly better than analysts' expectations.  But\n",
            "its film division saw profits slump 27% to $284m, helped by box-office\n",
            "flops Alexander and Catwoman, a sharp contrast to year-earlier, when\n",
            "the third and final film in the Lord of the Rings trilogy boosted\n",
            "results.  For the full-year, TimeWarner posted a profit of $3.36bn, up\n",
            "27% from its 2003 performance, while revenues grew 6.4% to $42.09bn.\n",
            "\"Our financial performance was strong, meeting or exceeding all of our\n",
            "full-year objectives and greatly enhancing our flexibility,\" chairman\n",
            "and chief executive Richard Parsons said.  For 2005, TimeWarner is\n",
            "projecting operating earnings growth of around 5%, and also expects\n",
            "higher revenue and wider profit margins.\n",
            "\n",
            "TimeWarner is to restate its\n",
            "accounts as part of efforts to resolve an inquiry into AOL by US\n",
            "market regulators.  It has already offered to pay $300m to settle\n",
            "charges, in a deal that is under review by the SEC. The company said\n",
            "it was unable to estimate the amount it needed to set aside for legal\n",
            "reserves, which it previously set at $500m.  It intends to adjust the\n",
            "way it accounts for a deal with German music publisher Bertelsmann's\n",
            "purchase of a stake in AOL Europe, which it had reported as\n",
            "advertising revenue.  It will now book the sale of its stake in AOL\n",
            "Europe as a loss on the value of that stake.\n"
          ]
        }
      ]
    },
    {
      "cell_type": "code",
      "source": [
        "# The articles order will change, thus, let's save the article\n",
        "doc1 = \"\"\"\n",
        "Ad sales boost Time Warner profit\n",
        "\n",
        "Quarterly profits at US media giant\n",
        "TimeWarner jumped 76% to $1.13bn (£600m) for the three months to\n",
        "December, from $639m year-earlier.\n",
        "\n",
        "The firm, which is now one of the\n",
        "biggest investors in Google, benefited from sales of high-speed\n",
        "internet connections and higher advert sales.  TimeWarner said fourth\n",
        "quarter sales rose 2% to $11.1bn from $10.9bn.  Its profits were\n",
        "buoyed by one-off gains which offset a profit dip at Warner Bros, and\n",
        "less users for AOL.\n",
        "\n",
        "Time Warner said on Friday that it now owns 8% of\n",
        "search-engine Google.  But its own internet business, AOL, had has\n",
        "mixed fortunes.  It lost 464,000 subscribers in the fourth quarter\n",
        "profits were lower than in the preceding three quarters.  However, the\n",
        "company said AOL's underlying profit before exceptional items rose 8%\n",
        "on the back of stronger internet advertising revenues.  It hopes to\n",
        "increase subscribers by offering the online service free to TimeWarner\n",
        "internet customers and will try to sign up AOL's existing customers\n",
        "for high-speed broadband.  TimeWarner also has to restate 2000 and\n",
        "2003 results following a probe by the US Securities Exchange\n",
        "Commission (SEC), which is close to concluding.\n",
        "\n",
        "Time Warner's fourth\n",
        "quarter profits were slightly better than analysts' expectations.  But\n",
        "its film division saw profits slump 27% to $284m, helped by box-office\n",
        "flops Alexander and Catwoman, a sharp contrast to year-earlier, when\n",
        "the third and final film in the Lord of the Rings trilogy boosted\n",
        "results.  For the full-year, TimeWarner posted a profit of $3.36bn, up\n",
        "27% from its 2003 performance, while revenues grew 6.4% to $42.09bn.\n",
        "\"Our financial performance was strong, meeting or exceeding all of our\n",
        "full-year objectives and greatly enhancing our flexibility,\" chairman\n",
        "and chief executive Richard Parsons said.  For 2005, TimeWarner is\n",
        "projecting operating earnings growth of around 5%, and also expects\n",
        "higher revenue and wider profit margins.\n",
        "\n",
        "TimeWarner is to restate its\n",
        "accounts as part of efforts to resolve an inquiry into AOL by US\n",
        "market regulators.  It has already offered to pay $300m to settle\n",
        "charges, in a deal that is under review by the SEC. The company said\n",
        "it was unable to estimate the amount it needed to set aside for legal\n",
        "reserves, which it previously set at $500m.  It intends to adjust the\n",
        "way it accounts for a deal with German music publisher Bertelsmann's\n",
        "purchase of a stake in AOL Europe, which it had reported as\n",
        "advertising revenue.  It will now book the sale of its stake in AOL\n",
        "Europe as a loss on the value of that stake.\n",
        "\"\"\""
      ],
      "metadata": {
        "id": "OTGOsS7FVAJB"
      },
      "execution_count": 12,
      "outputs": []
    },
    {
      "cell_type": "code",
      "source": [
        "mlm = pipeline(\"fill-mask\")"
      ],
      "metadata": {
        "colab": {
          "base_uri": "https://localhost:8080/"
        },
        "id": "RCDIALnoPZjr",
        "outputId": "d736f149-ae5a-4169-b3da-9da55301e768"
      },
      "execution_count": 13,
      "outputs": [
        {
          "output_type": "stream",
          "name": "stderr",
          "text": [
            "No model was supplied, defaulted to distilroberta-base and revision ec58a5b (https://huggingface.co/distilroberta-base).\n",
            "Using a pipeline without specifying a model name and revision in production is not recommended.\n"
          ]
        }
      ]
    },
    {
      "cell_type": "code",
      "source": [
        "mlm(\"Ad sales boost Time Warner <mask>\")"
      ],
      "metadata": {
        "id": "GibZj--lPmjs",
        "colab": {
          "base_uri": "https://localhost:8080/"
        },
        "outputId": "a6217b6c-e723-49b3-a11e-ed3a8362dfc3"
      },
      "execution_count": 14,
      "outputs": [
        {
          "output_type": "execute_result",
          "data": {
            "text/plain": [
              "[{'score': 0.975560188293457,\n",
              "  'token': 14433,\n",
              "  'token_str': ' Cable',\n",
              "  'sequence': 'Ad sales boost Time Warner Cable'},\n",
              " {'score': 0.0036186028737574816,\n",
              "  'token': 14641,\n",
              "  'token_str': ' Networks',\n",
              "  'sequence': 'Ad sales boost Time Warner Networks'},\n",
              " {'score': 0.0027795506175607443,\n",
              "  'token': 6076,\n",
              "  'token_str': ' Communications',\n",
              "  'sequence': 'Ad sales boost Time Warner Communications'},\n",
              " {'score': 0.001571234199218452,\n",
              "  'token': 603,\n",
              "  'token_str': ' Inc',\n",
              "  'sequence': 'Ad sales boost Time Warner Inc'},\n",
              " {'score': 0.0012234053574502468,\n",
              "  'token': 4,\n",
              "  'token_str': '.',\n",
              "  'sequence': 'Ad sales boost Time Warner.'}]"
            ]
          },
          "metadata": {},
          "execution_count": 14
        }
      ]
    },
    {
      "cell_type": "code",
      "source": [
        "text = \"Quarterly <mask> at US media giant \" + \\\n",
        "    \"TimeWarner jumped 76% to $1.13bn (£600m) for the three months to \" + \\\n",
        "    \"December, from $639m year-earlier.\"\n",
        "pprint(mlm(text))"
      ],
      "metadata": {
        "colab": {
          "base_uri": "https://localhost:8080/"
        },
        "id": "UNMPwwaFTOfV",
        "outputId": "04b7e93d-0dc2-4280-e08e-098a2369cb66"
      },
      "execution_count": 15,
      "outputs": [
        {
          "output_type": "stream",
          "name": "stdout",
          "text": [
            "[{'score': 0.346161425113678,\n",
            "  'sequence': 'Quarterly revenues at US media giant TimeWarner jumped 76% to '\n",
            "              '$1.13bn (£600m) for the three months to December, from $639m '\n",
            "              'year-earlier.',\n",
            "  'token': 3883,\n",
            "  'token_str': ' revenues'},\n",
            " {'score': 0.2683636248111725,\n",
            "  'sequence': 'Quarterly earnings at US media giant TimeWarner jumped 76% to '\n",
            "              '$1.13bn (£600m) for the three months to December, from $639m '\n",
            "              'year-earlier.',\n",
            "  'token': 1107,\n",
            "  'token_str': ' earnings'},\n",
            " {'score': 0.19676564633846283,\n",
            "  'sequence': 'Quarterly revenue at US media giant TimeWarner jumped 76% to '\n",
            "              '$1.13bn (£600m) for the three months to December, from $639m '\n",
            "              'year-earlier.',\n",
            "  'token': 903,\n",
            "  'token_str': ' revenue'},\n",
            " {'score': 0.0765751451253891,\n",
            "  'sequence': 'Quarterly profits at US media giant TimeWarner jumped 76% to '\n",
            "              '$1.13bn (£600m) for the three months to December, from $639m '\n",
            "              'year-earlier.',\n",
            "  'token': 4632,\n",
            "  'token_str': ' profits'},\n",
            " {'score': 0.037164609879255295,\n",
            "  'sequence': 'Quarterly sales at US media giant TimeWarner jumped 76% to '\n",
            "              '$1.13bn (£600m) for the three months to December, from $639m '\n",
            "              'year-earlier.',\n",
            "  'token': 647,\n",
            "  'token_str': ' sales'}]\n"
          ]
        }
      ]
    },
    {
      "cell_type": "code",
      "source": [
        "text = \"Quarterly profit at US media giant \" + \\\n",
        "    \"TimeWarner jumped 76% to $1.13bn (£600m) for the three <mask> to \" + \\\n",
        "    \"December, from $639m year-earlier.\"\n",
        "pprint(mlm(text))"
      ],
      "metadata": {
        "colab": {
          "base_uri": "https://localhost:8080/"
        },
        "id": "DG_TT1M5UFue",
        "outputId": "793cf141-7610-4f78-94b1-242f811d2110"
      },
      "execution_count": 16,
      "outputs": [
        {
          "output_type": "stream",
          "name": "stdout",
          "text": [
            "[{'score': 0.5059128999710083,\n",
            "  'sequence': 'Quarterly profit at US media giant TimeWarner jumped 76% to '\n",
            "              '$1.13bn (£600m) for the three months to December, from $639m '\n",
            "              'year-earlier.',\n",
            "  'token': 377,\n",
            "  'token_str': ' months'},\n",
            " {'score': 0.4703284800052643,\n",
            "  'sequence': 'Quarterly profit at US media giant TimeWarner jumped 76% to '\n",
            "              '$1.13bn (£600m) for the three quarters to December, from $639m '\n",
            "              'year-earlier.',\n",
            "  'token': 5666,\n",
            "  'token_str': ' quarters'},\n",
            " {'score': 0.015661416575312614,\n",
            "  'sequence': 'Quarterly profit at US media giant TimeWarner jumped 76% to '\n",
            "              '$1.13bn (£600m) for the three years to December, from $639m '\n",
            "              'year-earlier.',\n",
            "  'token': 107,\n",
            "  'token_str': ' years'},\n",
            " {'score': 0.0035203234292566776,\n",
            "  'sequence': 'Quarterly profit at US media giant TimeWarner jumped 76% to '\n",
            "              '$1.13bn (£600m) for the three quarter to December, from $639m '\n",
            "              'year-earlier.',\n",
            "  'token': 297,\n",
            "  'token_str': ' quarter'},\n",
            " {'score': 0.0026535517536103725,\n",
            "  'sequence': 'Quarterly profit at US media giant TimeWarner jumped 76% to '\n",
            "              '$1.13bn (£600m) for the three weeks to December, from $639m '\n",
            "              'year-earlier.',\n",
            "  'token': 688,\n",
            "  'token_str': ' weeks'}]\n"
          ]
        }
      ]
    },
    {
      "cell_type": "code",
      "source": [
        "text = \"Quarterly profit at US media giant \" + \\\n",
        "    \"TimeWarner <mask> 76% to $1.13bn (£600m) for the three months to \" + \\\n",
        "    \"December, from $639m year-earlier.\"\n",
        "pprint(mlm(text))"
      ],
      "metadata": {
        "colab": {
          "base_uri": "https://localhost:8080/"
        },
        "id": "5dVASjRqU8Q-",
        "outputId": "b5155ae0-7cde-4053-c7fe-8ee5f475b9bd"
      },
      "execution_count": 17,
      "outputs": [
        {
          "output_type": "stream",
          "name": "stdout",
          "text": [
            "[{'score': 0.37313273549079895,\n",
            "  'sequence': 'Quarterly profit at US media giant TimeWarner rose 76% to '\n",
            "              '$1.13bn (£600m) for the three months to December, from $639m '\n",
            "              'year-earlier.',\n",
            "  'token': 1458,\n",
            "  'token_str': ' rose'},\n",
            " {'score': 0.12948235869407654,\n",
            "  'sequence': 'Quarterly profit at US media giant TimeWarner fell 76% to '\n",
            "              '$1.13bn (£600m) for the three months to December, from $639m '\n",
            "              'year-earlier.',\n",
            "  'token': 1064,\n",
            "  'token_str': ' fell'},\n",
            " {'score': 0.06897484511137009,\n",
            "  'sequence': 'Quarterly profit at US media giant TimeWarner soared 76% to '\n",
            "              '$1.13bn (£600m) for the three months to December, from $639m '\n",
            "              'year-earlier.',\n",
            "  'token': 14622,\n",
            "  'token_str': ' soared'},\n",
            " {'score': 0.05553628131747246,\n",
            "  'sequence': 'Quarterly profit at US media giant TimeWarner slumped 76% to '\n",
            "              '$1.13bn (£600m) for the three months to December, from $639m '\n",
            "              'year-earlier.',\n",
            "  'token': 16168,\n",
            "  'token_str': ' slumped'},\n",
            " {'score': 0.054937757551670074,\n",
            "  'sequence': 'Quarterly profit at US media giant TimeWarner jumped 76% to '\n",
            "              '$1.13bn (£600m) for the three months to December, from $639m '\n",
            "              'year-earlier.',\n",
            "  'token': 4262,\n",
            "  'token_str': ' jumped'}]\n"
          ]
        }
      ]
    },
    {
      "cell_type": "code",
      "source": [
        "text = \"Quarterly profit at US <mask> giant \" + \\\n",
        "    \"TimeWarner jumped 76% to $1.13bn (£600m) for the three months to \" + \\\n",
        "    \"December, from $639m year-earlier.\"\n",
        "pprint(mlm(text))"
      ],
      "metadata": {
        "colab": {
          "base_uri": "https://localhost:8080/"
        },
        "id": "opeew0wlVXn7",
        "outputId": "b1689f1d-4bc3-475b-d020-723c4c0798f8"
      },
      "execution_count": 18,
      "outputs": [
        {
          "output_type": "stream",
          "name": "stdout",
          "text": [
            "[{'score': 0.23745384812355042,\n",
            "  'sequence': 'Quarterly profit at US telecom giant TimeWarner jumped 76% to '\n",
            "              '$1.13bn (£600m) for the three months to December, from $639m '\n",
            "              'year-earlier.',\n",
            "  'token': 9146,\n",
            "  'token_str': ' telecom'},\n",
            " {'score': 0.13893131911754608,\n",
            "  'sequence': 'Quarterly profit at US tech giant TimeWarner jumped 76% to '\n",
            "              '$1.13bn (£600m) for the three months to December, from $639m '\n",
            "              'year-earlier.',\n",
            "  'token': 2903,\n",
            "  'token_str': ' tech'},\n",
            " {'score': 0.11504440009593964,\n",
            "  'sequence': 'Quarterly profit at US media giant TimeWarner jumped 76% to '\n",
            "              '$1.13bn (£600m) for the three months to December, from $639m '\n",
            "              'year-earlier.',\n",
            "  'token': 433,\n",
            "  'token_str': ' media'},\n",
            " {'score': 0.07908613234758377,\n",
            "  'sequence': 'Quarterly profit at US telecommunications giant TimeWarner '\n",
            "              'jumped 76% to $1.13bn (£600m) for the three months to December, '\n",
            "              'from $639m year-earlier.',\n",
            "  'token': 15601,\n",
            "  'token_str': ' telecommunications'},\n",
            " {'score': 0.06902529299259186,\n",
            "  'sequence': 'Quarterly profit at US electronics giant TimeWarner jumped 76% '\n",
            "              'to $1.13bn (£600m) for the three months to December, from $639m '\n",
            "              'year-earlier.',\n",
            "  'token': 8917,\n",
            "  'token_str': ' electronics'}]\n"
          ]
        }
      ]
    },
    {
      "cell_type": "code",
      "source": [
        "text = \"Quarterly profit at US media giant \" + \\\n",
        "    \"TimeWarner jumped 76% to $1.13bn (£600m) for the three months to \" + \\\n",
        "    \"December, <mask> $639m year-earlier.\"\n",
        "pprint(mlm(text))"
      ],
      "metadata": {
        "colab": {
          "base_uri": "https://localhost:8080/"
        },
        "id": "ItTZcp9XVYWw",
        "outputId": "359670e6-d495-43e0-d200-3e0a7148153b"
      },
      "execution_count": 19,
      "outputs": [
        {
          "output_type": "stream",
          "name": "stdout",
          "text": [
            "[{'score': 0.29505041241645813,\n",
            "  'sequence': 'Quarterly profit at US media giant TimeWarner jumped 76% to '\n",
            "              '$1.13bn (£600m) for the three months to December, versus $639m '\n",
            "              'year-earlier.',\n",
            "  'token': 4411,\n",
            "  'token_str': ' versus'},\n",
            " {'score': 0.11734861880540848,\n",
            "  'sequence': 'Quarterly profit at US media giant TimeWarner jumped 76% to '\n",
            "              '$1.13bn (£600m) for the three months to December, topping $639m '\n",
            "              'year-earlier.',\n",
            "  'token': 11744,\n",
            "  'token_str': ' topping'},\n",
            " {'score': 0.04699510335922241,\n",
            "  'sequence': 'Quarterly profit at US media giant TimeWarner jumped 76% to '\n",
            "              '$1.13bn (£600m) for the three months to December, hitting $639m '\n",
            "              'year-earlier.',\n",
            "  'token': 3022,\n",
            "  'token_str': ' hitting'},\n",
            " {'score': 0.04089583083987236,\n",
            "  'sequence': 'Quarterly profit at US media giant TimeWarner jumped 76% to '\n",
            "              '$1.13bn (£600m) for the three months to December, from $639m '\n",
            "              'year-earlier.',\n",
            "  'token': 31,\n",
            "  'token_str': ' from'},\n",
            " {'score': 0.03950506076216698,\n",
            "  'sequence': 'Quarterly profit at US media giant TimeWarner jumped 76% to '\n",
            "              '$1.13bn (£600m) for the three months to December, a $639m '\n",
            "              'year-earlier.',\n",
            "  'token': 10,\n",
            "  'token_str': ' a'}]\n"
          ]
        }
      ]
    },
    {
      "cell_type": "markdown",
      "source": [
        "END"
      ],
      "metadata": {
        "id": "s9wnDxYMV5DA"
      }
    }
  ]
}